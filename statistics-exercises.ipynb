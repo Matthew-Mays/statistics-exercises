{
 "cells": [
  {
   "cell_type": "code",
   "execution_count": 15,
   "metadata": {},
   "outputs": [],
   "source": [
    "%matplotlib inline\n",
    "import numpy as np\n",
    "import pandas as pd"
   ]
  },
  {
   "cell_type": "markdown",
   "metadata": {},
   "source": [
    "### 1. How likely is it that you roll doubles when rolling two dice?"
   ]
  },
  {
   "cell_type": "code",
   "execution_count": 12,
   "metadata": {},
   "outputs": [],
   "source": [
    "n_trials = nrows = 10_000\n",
    "n_dice = ncols = 2\n",
    "\n",
    "rolls = np.random.choice([1, 2, 3, 4, 5, 6], n_trials * n_dice).reshape(nrows, ncols)"
   ]
  },
  {
   "cell_type": "code",
   "execution_count": 14,
   "metadata": {},
   "outputs": [
    {
     "name": "stdout",
     "output_type": "stream",
     "text": [
      "The chance of rolling doubles is about 0.1711.\n"
     ]
    }
   ],
   "source": [
    "doubles = (pd.DataFrame(rolls).apply(lambda x: x[0] == x[1], axis=1).mean())\n",
    "print(f\"The chance of rolling doubles is about {doubles}.\")"
   ]
  },
  {
   "cell_type": "markdown",
   "metadata": {},
   "source": [
    "### 2. If you flip 8 coins, what is the probability of getting exactly 3 heads? What is the probability of getting more than 3 heads?"
   ]
  },
  {
   "cell_type": "code",
   "execution_count": 17,
   "metadata": {},
   "outputs": [],
   "source": [
    "def heads_count(flips):\n",
    "    count = 0\n",
    "    for result in flips:\n",
    "        if result == \"heads\":\n",
    "            count += 1\n",
    "    return count"
   ]
  },
  {
   "cell_type": "code",
   "execution_count": 49,
   "metadata": {},
   "outputs": [
    {
     "name": "stdout",
     "output_type": "stream",
     "text": [
      "The probability of getting exactly 3 heads is about 0.2188.\n"
     ]
    }
   ],
   "source": [
    "n_trials = nrows = 10_000\n",
    "n_coins = ncols = 8\n",
    "cflips = np.random.choice(['heads', 'tails'], n_trials * n_coins).reshape(nrows, ncols)\n",
    "cflips_df = pd.DataFrame(cflips)\n",
    "prob = cflips_df.apply(lambda x: heads_count(x) == 3, axis = 1).mean()\n",
    "print(f\"The probability of getting exactly 3 heads is about {prob}.\")"
   ]
  },
  {
   "cell_type": "code",
   "execution_count": 20,
   "metadata": {},
   "outputs": [
    {
     "name": "stdout",
     "output_type": "stream",
     "text": [
      "The probability of getting more than 3 heads is about 0.6453.\n"
     ]
    }
   ],
   "source": [
    "prob = cflips_df.apply(lambda x: heads_count(x) > 3, axis = 1).mean()\n",
    "print(f\"The probability of getting more than 3 heads is about {prob}.\")"
   ]
  },
  {
   "cell_type": "markdown",
   "metadata": {},
   "source": [
    "### 3. There are approximitely 3 web development cohorts for every 1 data science cohort at Codeup. Assuming that Codeup randomly selects an alumni to put on a billboard, what are the odds that the two billboards I drive past both have data science students on them?\n",
    "\n"
   ]
  },
  {
   "cell_type": "code",
   "execution_count": 21,
   "metadata": {},
   "outputs": [],
   "source": [
    "def DS_counter(alumni):\n",
    "    count = 0\n",
    "    for student in alumni:\n",
    "        if student == 'DS':\n",
    "            count += 1\n",
    "    return count"
   ]
  },
  {
   "cell_type": "code",
   "execution_count": 22,
   "metadata": {},
   "outputs": [
    {
     "name": "stdout",
     "output_type": "stream",
     "text": [
      "The probability of both bilboards having DS students on them is 0.0648.\n"
     ]
    }
   ],
   "source": [
    "n_trials = nrows = 10_000\n",
    "n_students = ncols = 2\n",
    "billboards = np.random.choice(['WD1', 'WD2', 'WD3', 'DS'], n_trials * n_students).reshape(nrows,ncols)\n",
    "billboards_df = pd.DataFrame(billboards)\n",
    "prob = billboards_df.apply(lambda x: DS_counter(x) > 1, axis = 1).mean()\n",
    "print(f'The probability of both bilboards having DS students on them is {prob}.')"
   ]
  },
  {
   "cell_type": "markdown",
   "metadata": {},
   "source": [
    "### 4. Codeup students buy, on average, 3 poptart packages (+- 1.5) a day from the snack vending machine. If on monday the machine is restocked with 17 poptart packages, how likely is it that I will be able to buy some poptarts on Friday afternoon?"
   ]
  },
  {
   "cell_type": "code",
   "execution_count": 51,
   "metadata": {},
   "outputs": [
    {
     "data": {
      "text/plain": [
       "0.6694"
      ]
     },
     "execution_count": 51,
     "metadata": {},
     "output_type": "execute_result"
    }
   ],
   "source": [
    "poptarts = np.round(np.random.normal(3, 1.5, size=(100_000, 5)))\n",
    "weekly_demand = poptarts.sum(axis=1)\n",
    "(weekly_demand < 17).mean()"
   ]
  },
  {
   "cell_type": "markdown",
   "metadata": {},
   "source": [
    "### 5. Compare Heights"
   ]
  },
  {
   "cell_type": "markdown",
   "metadata": {},
   "source": [
    "* Men have an average height of 178 cm and standard deviation of 8cm.\n",
    "* Women have a mean of 170, sd = 6cm.\n",
    "* If a man and woman are chosen at random, P(woman taller than man)?\n"
   ]
  },
  {
   "cell_type": "code",
   "execution_count": 57,
   "metadata": {},
   "outputs": [
    {
     "data": {
      "text/plain": [
       "0.20216"
      ]
     },
     "execution_count": 57,
     "metadata": {},
     "output_type": "execute_result"
    }
   ],
   "source": [
    "trials = 100_000\n",
    "man = np.round(np.random.normal(178, 8, trials))\n",
    "women = np.round(np.random.normal(170, 6, trials))\n",
    "(man < women).mean()"
   ]
  },
  {
   "cell_type": "markdown",
   "metadata": {},
   "source": [
    "### 6. When installing anaconda on a student's computer, there's a 1 in 250 chance that the download is corrupted and the installation fails. What are the odds that after having 50 students download anaconda, no one has an installation issue? 100 students?\n",
    "\n"
   ]
  },
  {
   "cell_type": "code",
   "execution_count": 25,
   "metadata": {},
   "outputs": [],
   "source": [
    "downloads = []\n",
    "for i in range(0,249):\n",
    "    downloads.append('Not Corrupted')\n",
    "downloads.append('Corrupted')\n",
    "\n",
    "def corruption_count(downloaded):\n",
    "    count = 0\n",
    "    for result in downloaded:\n",
    "        if result == 'Corrupted':\n",
    "            count += 1\n",
    "    return count"
   ]
  },
  {
   "cell_type": "code",
   "execution_count": 26,
   "metadata": {},
   "outputs": [
    {
     "name": "stdout",
     "output_type": "stream",
     "text": [
      "The probability no student had a corrupted download is 0.8249.\n"
     ]
    }
   ],
   "source": [
    "n_trials = nrows = 10_000\n",
    "n_students = ncols = 50\n",
    "all_downloads = np.random.choice(downloads, n_trials * n_students).reshape(nrows, ncols)\n",
    "all_downloads_df = pd.DataFrame(all_downloads)\n",
    "prob = all_downloads_df.apply(lambda x: corruption_count(x) == 0, axis = 1).mean()\n",
    "print(f'The probability no student had a corrupted download is {prob}.')"
   ]
  },
  {
   "cell_type": "code",
   "execution_count": 27,
   "metadata": {},
   "outputs": [
    {
     "name": "stdout",
     "output_type": "stream",
     "text": [
      "The probability no student had a corrupted download is 0.6638.\n"
     ]
    }
   ],
   "source": [
    "n_students = ncols = 100\n",
    "all_downloads = np.random.choice(downloads, n_trials * n_students).reshape(nrows, ncols)\n",
    "all_downloads_df = pd.DataFrame(all_downloads)\n",
    "prob = all_downloads_df.apply(lambda x: corruption_count(x) == 0, axis = 1).mean()\n",
    "print(f'The probability no student had a corrupted download is {prob}.')"
   ]
  },
  {
   "cell_type": "markdown",
   "metadata": {},
   "source": [
    "### What is the probability that we observe an installation issue within the first 150 students that download anaconda?"
   ]
  },
  {
   "cell_type": "code",
   "execution_count": 35,
   "metadata": {},
   "outputs": [
    {
     "name": "stdout",
     "output_type": "stream",
     "text": [
      "The probability of encountering a corrupted download in 150 students is 0.4549.\n"
     ]
    }
   ],
   "source": [
    "n_students = ncols = 150\n",
    "all_downloads = np.random.choice(downloads, n_trials * n_students).reshape(nrows, ncols)\n",
    "all_downloads_df = pd.DataFrame(all_downloads)\n",
    "prob = round(1 - (all_downloads_df.apply(lambda x: corruption_count(x) == 0, axis = 1).mean()), 4)\n",
    "print(f'The probability of encountering a corrupted download in 150 students is {prob}.')"
   ]
  },
  {
   "cell_type": "markdown",
   "metadata": {},
   "source": [
    "### How likely is it that 450 students all download anaconda without an issue?"
   ]
  },
  {
   "cell_type": "code",
   "execution_count": 36,
   "metadata": {},
   "outputs": [
    {
     "name": "stdout",
     "output_type": "stream",
     "text": [
      "The probability of all 450 students downloading without issue is 0.1691.\n"
     ]
    }
   ],
   "source": [
    "n_students = ncols = 450\n",
    "all_downloads = np.random.choice(downloads, n_trials * n_students).reshape(nrows, ncols)\n",
    "all_downloads_df = pd.DataFrame(all_downloads)\n",
    "prob = all_downloads_df.apply(lambda x: corruption_count(x) == 0, axis = 1).mean()\n",
    "print(f'The probability of all 450 students downloading without issue is {prob}.')"
   ]
  },
  {
   "cell_type": "markdown",
   "metadata": {},
   "source": [
    "### 7. There's a 70% chance on any given day that there will be at least one food truck at Travis Park. However, you haven't seen a food truck there in 3 days. How unlikely is this?"
   ]
  },
  {
   "cell_type": "code",
   "execution_count": 41,
   "metadata": {},
   "outputs": [
    {
     "name": "stdout",
     "output_type": "stream",
     "text": [
      "The probability of not seeing a food truck in three days is 0.024.\n"
     ]
    }
   ],
   "source": [
    "chance = .7\n",
    "ndays = ncols = 3\n",
    "n_trials = nrows = 10_000\n",
    "\n",
    "trials = np.random.random((nrows, ncols))\n",
    "truck_shows = trials < chance\n",
    "prob = (truck_shows.sum(axis = 1) == 0).mean()\n",
    "print(f'The probability of not seeing a food truck in three days is {prob}.')"
   ]
  },
  {
   "cell_type": "markdown",
   "metadata": {},
   "source": [
    "How likely is it that a food truck will show up sometime this week?"
   ]
  },
  {
   "cell_type": "code",
   "execution_count": 42,
   "metadata": {},
   "outputs": [
    {
     "name": "stdout",
     "output_type": "stream",
     "text": [
      "The probability of a food truck showing up this week is 0.9997.\n"
     ]
    }
   ],
   "source": [
    "ndays = ncols = 7\n",
    "\n",
    "trials = np.random.random((nrows, ncols))\n",
    "truck_shows = trials < chance\n",
    "prob = (truck_shows.sum(axis = 1) >= 1).mean()\n",
    "print(f'The probability of a food truck showing up this week is {prob}.')"
   ]
  },
  {
   "cell_type": "markdown",
   "metadata": {},
   "source": [
    "### 8. If 23 people are in the same room, what are the odds that two of them share a birthday?"
   ]
  },
  {
   "cell_type": "code",
   "execution_count": 43,
   "metadata": {},
   "outputs": [],
   "source": [
    "n_people = ncols = 23\n",
    "n_trials = nrows = 10_000\n",
    "\n",
    "birthdays = []\n",
    "for i in range(0, 365):\n",
    "    birthdays.append('Day#' + str(i))\n",
    "    \n",
    "def bday_matcher(bdays):\n",
    "    if len(bdays) == len(set(bdays)):\n",
    "        return False\n",
    "    else:\n",
    "        return True"
   ]
  },
  {
   "cell_type": "code",
   "execution_count": 44,
   "metadata": {},
   "outputs": [
    {
     "name": "stdout",
     "output_type": "stream",
     "text": [
      "The probability of two people sharing a birthday in 23 people is 0.514.\n"
     ]
    }
   ],
   "source": [
    "all_birthdays = np.random.choice(birthdays, n_trials * n_people).reshape(nrows, ncols)\n",
    "bday_df = pd.DataFrame(all_birthdays)\n",
    "prob = bday_df.apply(lambda x: bday_matcher(x) == True, axis = 1).mean()\n",
    "print(f'The probability of two people sharing a birthday in 23 people is {prob}.')"
   ]
  },
  {
   "cell_type": "markdown",
   "metadata": {},
   "source": [
    "### What if it's 20 people?"
   ]
  },
  {
   "cell_type": "code",
   "execution_count": 45,
   "metadata": {},
   "outputs": [
    {
     "name": "stdout",
     "output_type": "stream",
     "text": [
      "The probability of two people sharing a birthday in 20 people is 0.4091.\n"
     ]
    }
   ],
   "source": [
    "n_people = ncols = 20\n",
    "all_birthdays = np.random.choice(birthdays, n_trials * n_people).reshape(nrows, ncols)\n",
    "bday_df = pd.DataFrame(all_birthdays)\n",
    "prob = bday_df.apply(lambda x: bday_matcher(x) == True, axis = 1).mean()\n",
    "print(f'The probability of two people sharing a birthday in 20 people is {prob}.')"
   ]
  },
  {
   "cell_type": "markdown",
   "metadata": {},
   "source": [
    "### What if it's 40 people?"
   ]
  },
  {
   "cell_type": "code",
   "execution_count": 47,
   "metadata": {},
   "outputs": [
    {
     "name": "stdout",
     "output_type": "stream",
     "text": [
      "The probability of two people sharing a birthday in 40 people is 0.8933.\n"
     ]
    }
   ],
   "source": [
    "n_people = ncols = 40\n",
    "all_birthdays = np.random.choice(birthdays, n_trials * n_people).reshape(nrows, ncols)\n",
    "bday_df = pd.DataFrame(all_birthdays)\n",
    "prob = bday_df.apply(lambda x: bday_matcher(x) == True, axis = 1).mean()\n",
    "print(f'The probability of two people sharing a birthday in 40 people is {prob}.')"
   ]
  },
  {
   "cell_type": "code",
   "execution_count": null,
   "metadata": {},
   "outputs": [],
   "source": []
  }
 ],
 "metadata": {
  "kernelspec": {
   "display_name": "Python 3",
   "language": "python",
   "name": "python3"
  },
  "language_info": {
   "codemirror_mode": {
    "name": "ipython",
    "version": 3
   },
   "file_extension": ".py",
   "mimetype": "text/x-python",
   "name": "python",
   "nbconvert_exporter": "python",
   "pygments_lexer": "ipython3",
   "version": "3.7.6"
  }
 },
 "nbformat": 4,
 "nbformat_minor": 4
}
